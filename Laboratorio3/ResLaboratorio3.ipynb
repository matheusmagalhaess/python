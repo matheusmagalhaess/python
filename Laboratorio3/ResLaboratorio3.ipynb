{
 "cells": [
  {
   "cell_type": "markdown",
   "metadata": {},
   "source": [
    "# Laboratório #3\n",
    "\n",
    "### ATENCÃO\n",
    "\n",
    "1. Para cada um dos exercícios a seguir, faça o seguinte:\n",
    "    * Adicione comentários ao seu código. Os comentários servem para explicar o código, ajudando você a lembrar do que se trata aquele trecho de código, como também outras pessoas a entenderem o que foi feito.\n",
    "    * Caso o exercício involva a implementação de uma função:\n",
    "        + Coloque um comentário dizendo o que a função faz, use **docstrings**.\n",
    "        + Escolha nomes explicativos para suas funções e parâmetros.\n",
    "    \n",
    "2. Quando você terminar os exercícios do laboratório, vá ao menu do Jupyter ou Colab e selecione a opção para fazer download do notebook.\n",
    "    * Os notebooks tem extensão .ipynb. \n",
    "    * Este deve ser o arquivo que você irá entregar.\n",
    "    * No Jupyter vá até a opção **File** -> **Download as** -> **Notebook (.ipynb)**.\n",
    "    * No Colab vá até a opção **File** -> **Download .ipynb**."
   ]
  },
  {
   "cell_type": "markdown",
   "metadata": {},
   "source": [
    "**Nome**: Matheus de Souza Magalhães\n",
    "\n",
    "**Matrícula**: 9383"
   ]
  },
  {
   "cell_type": "markdown",
   "metadata": {},
   "source": [
    "## Exercícios"
   ]
  },
  {
   "cell_type": "markdown",
   "metadata": {},
   "source": [
    "#### 1)  Crie um módulo chamado `mymod.py` e implemente nele duas funções:\n",
    "\n",
    "1. `comprimentoString(str)`, que retorna o número de caracteres em uma string passada como argumento.\n",
    "2. `imprimeTipo(var)`, que imprime e retorna o tipo da variável passada como argumento para a função.\n",
    "\n",
    "**IMPORTANTE**: o módulo `mymod.py` deve ser criado em um arquivo separado, na mesma pasta em que este notebook do laboratório está sendo executado e não na célula abaixo. Aqui neste notebook vocês apenas importarão o módulo e o testarão.\n",
    "\n",
    "Após criarem o módulo, executem a célula abaixo, a qual deve ser executada sem nenhum tipo de erro se o módulo tiver sido criado corretamente."
   ]
  },
  {
   "cell_type": "code",
   "execution_count": null,
   "metadata": {},
   "outputs": [],
   "source": [
    "import mymod\n",
    "\n",
    "# Testando a função: comprimentoString do módulo mymod.\n",
    "if(mymod.comprimentoString('Teste da função comprimentoString') == 33):\n",
    "    print('Sucesso: Tamanho correto!')\n",
    "else:\n",
    "    print('Tamanho incorreto, verifique sua implementação....')\n",
    "    \n",
    "# Testando a função: comprimentoString do módulo mymod.\n",
    "var = True\n",
    "if(mymod.imprimeTipo(var) is bool):\n",
    "    print('Sucesso: Tipo correto!')\n",
    "else:\n",
    "    print('Tipo incorreto, verifique sua implementação....')"
   ]
  },
  {
   "cell_type": "markdown",
   "metadata": {},
   "source": [
    "#### 2)  Do módulo `mymod.py` importe apenas a função `comprimentoString`, de forma que não ocorra nenhum erro na célula abaixo. OBS.: Não muda a chamada da função `comprimentoString()`, resolva o erro apenas importando o módulo."
   ]
  },
  {
   "cell_type": "code",
   "execution_count": null,
   "metadata": {},
   "outputs": [],
   "source": [
    "from mymod import comprimentoString\n",
    "\n",
    "comprimentoString('teste')"
   ]
  },
  {
   "cell_type": "markdown",
   "metadata": {},
   "source": [
    "#### 3)  Implemente um pacote chamado `carro` que contenha 2 módulos chamados `motor.py` e `controle.py`.\n",
    "\n",
    "1. O módulo `motor.py` deve conter:\n",
    "    + uma função chamada `nomeModulo()` que retorne o nome do módulo.\n",
    "    + um dicionário chamado `caracteristicas_motor` com algumas caracteristicas do motor como por exemplo: fabricante (ford,vw,fiat,etc.), combustivel (gasolina,alcool,flex), numValvulas (8,16), potencia (100, 200, etc. cavalos)\n",
    "2. O módulo `controle.py` deve conter:\n",
    "    + uma função chamada `acelerar()` que imprime na tela a string `'Acelerando!'`\n",
    "    + uma função chamada `velocidade()` que retorna o valor `120`.\n",
    "    \n",
    "Execute o trecho de código na célula abaixo, não o altere. O código irá retornar um erro. Qual o motivo deste erro? Como ele pode ser resolvido?"
   ]
  },
  {
   "cell_type": "code",
   "execution_count": null,
   "metadata": {},
   "outputs": [],
   "source": [
    "from carro import *\n",
    "\n",
    "print('Nome do módulo é: ', motor.nomeModulo())"
   ]
  },
  {
   "cell_type": "markdown",
   "metadata": {},
   "source": [
    "**Escreva aqui sua resposta para as perguntas acima.**\n",
    "\n",
    "Não foi especificada a lista de módulos. Deve-se especificar, pois senão, o comando from import de nada adianta. "
   ]
  },
  {
   "cell_type": "markdown",
   "metadata": {},
   "source": [
    "Em seguida, abra o arquivo `__init__.py` para edição, adicione a seguinte linha\n",
    "```python\n",
    "__all__ = ['motor']\n",
    "```\n",
    "salve e feche o arquivo. \n",
    "\n",
    "Em seguida, vá até o menu e selecione as opções: \"Kernel\" seguida de \"Restart\".\n",
    "\n",
    "Agora, execute a célula abaixo e veja que é possível importar o módulo `motor` e executar a função `nomeModulo` sem nenhum erro."
   ]
  },
  {
   "cell_type": "code",
   "execution_count": null,
   "metadata": {},
   "outputs": [],
   "source": [
    "from carro import *\n",
    "\n",
    "print('Nome do módulo é: ', motor.nomeModulo())"
   ]
  },
  {
   "cell_type": "markdown",
   "metadata": {},
   "source": [
    "Execute a célula abaixo e verifique que não é possível importar o módulo `controle`. O que pode ser feito para corrigir este erro? Corrija o código até que a velocidade seja impressa corretamente na tela."
   ]
  },
  {
   "cell_type": "code",
   "execution_count": 1,
   "metadata": {},
   "outputs": [
    {
     "name": "stdout",
     "output_type": "stream",
     "text": [
      "Qual a velocidade?  120\n"
     ]
    }
   ],
   "source": [
    "from carro import *\n",
    "\n",
    "print('Qual a velocidade? ', controle.velocidade())"
   ]
  },
  {
   "cell_type": "markdown",
   "metadata": {},
   "source": [
    "**IMPORTANTE**: Para realizar as entregas dos exercícios de laboratório, por favor, leiam o tutorial no seguinte link:\n",
    "[Material-das-Aulas](../docs/Acesso-ao-material-das-aulas-resolucao-e-entrega-dos-laboratorios.pdf)"
   ]
  },
  {
   "cell_type": "code",
   "execution_count": null,
   "metadata": {},
   "outputs": [],
   "source": []
  }
 ],
 "metadata": {
  "kernelspec": {
   "display_name": "Python 3",
   "language": "python",
   "name": "python3"
  },
  "language_info": {
   "codemirror_mode": {
    "name": "ipython",
    "version": 3
   },
   "file_extension": ".py",
   "mimetype": "text/x-python",
   "name": "python",
   "nbconvert_exporter": "python",
   "pygments_lexer": "ipython3",
   "version": "3.7.6"
  }
 },
 "nbformat": 4,
 "nbformat_minor": 4
}
