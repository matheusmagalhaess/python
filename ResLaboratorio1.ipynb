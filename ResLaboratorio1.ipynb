{
 "cells": [
  {
   "cell_type": "markdown",
   "metadata": {},
   "source": [
    "# Laboratório #1\n",
    "\n",
    "### ATENCÃO\n",
    "\n",
    "1. Para cada um dos exercícios a seguir, faça o seguinte:\n",
    "    * coloque um comentário dizendo o que a função faz, use **docstrings**.\n",
    "    * escolha nomes explicativos para suas funções e parâmetros.\n",
    "2. Quando você terminar os exercícios do laboratório, vá ao menu do Jupyter ou Colab e selecione a opção para fazer download do notebook.\n",
    "    * Os notebooks tem extensão .ipynb. \n",
    "    * Este deve ser o arquivo que você irá entregar.\n",
    "    * No Jupyter vá até a opção **File** -> **Download as** -> **Notebook (.ipynb)**.\n",
    "    * No Colab vá até a opção **File** -> **Download .ipynb**.\n",
    "\n",
    "## Exercícios"
   ]
  },
  {
   "cell_type": "markdown",
   "metadata": {},
   "source": [
    "#### 1)  Implemente 4 funções diferentes que recebam dois valores, x e y, e retornem o resultado das seguintes operações:\n",
    "\n",
    "1. soma → soma(2,3) = 2 + 3 = 5\n",
    "2. subtração → subt(7,4) = 7 – 4 = 3\n",
    "3. divisão → divis(8,2) = 8 / 2 = 4\n",
    "4. produto → prod(3,5) = 3 * 5 = 15\n",
    "\n",
    "**OBS.: Não se esqueça de depois de implementar as funções, chamá-las com alguns valores de teste.**"
   ]
  },
  {
   "cell_type": "code",
   "execution_count": 1,
   "metadata": {},
   "outputs": [
    {
     "name": "stdout",
     "output_type": "stream",
     "text": [
      "O resultado da soma é:  5\n",
      "Docstring da função:  Essa função resulta na soma dos valores de entrada.\n"
     ]
    }
   ],
   "source": [
    "# Escreva aqui o código que implementa e testa a primeira operação.\n",
    "def soma(x,y):\n",
    "    '''Essa função resulta na soma dos valores de entrada.'''\n",
    "    soma = x + y\n",
    "    return soma\n",
    "\n",
    "print ('O resultado da soma é: ', soma(2,3))\n",
    "print (\"Docstring da função: \", soma.__doc__)"
   ]
  },
  {
   "cell_type": "code",
   "execution_count": 3,
   "metadata": {},
   "outputs": [
    {
     "name": "stdout",
     "output_type": "stream",
     "text": [
      "O resultado da subtração é:  3\n",
      "Docstring da função:  Essa função resulta na subtração dos valores de entrada.\n"
     ]
    }
   ],
   "source": [
    "# Escreva aqui o código que implementa e testa a segunda operação.\n",
    "def subt(x,y):\n",
    "    '''Essa função resulta na subtração dos valores de entrada.'''\n",
    "    subt = x - y\n",
    "    return subt\n",
    "\n",
    "print ('O resultado da subtração é: ', subt(7,4))\n",
    "print (\"Docstring da função: \", subt.__doc__)"
   ]
  },
  {
   "cell_type": "code",
   "execution_count": 4,
   "metadata": {},
   "outputs": [
    {
     "name": "stdout",
     "output_type": "stream",
     "text": [
      "O resultado da divisão é:  4.0\n",
      "Docstring da função:  Essa função resulta na divisão dos valores de entrada.\n"
     ]
    }
   ],
   "source": [
    "# Escreva aqui o código que implementa e testa a terceira operação.\n",
    "def divis(x,y):\n",
    "    '''Essa função resulta na divisão dos valores de entrada.'''\n",
    "    divis = x / y\n",
    "    return divis\n",
    "\n",
    "print ('O resultado da divisão é: ', divis(8,2))\n",
    "print (\"Docstring da função: \", divis.__doc__)"
   ]
  },
  {
   "cell_type": "code",
   "execution_count": 6,
   "metadata": {},
   "outputs": [
    {
     "name": "stdout",
     "output_type": "stream",
     "text": [
      "O resultado do produto é:  15\n",
      "Docstring da função:  Essa função resulta no produto dos valores de entrada.\n"
     ]
    }
   ],
   "source": [
    "# Escreva aqui o código que implementa e testa a quarta operação.\n",
    "def prod(x,y):\n",
    "    '''Essa função resulta no produto dos valores de entrada.'''\n",
    "    prod = x * y\n",
    "    return prod\n",
    "\n",
    "print ('O resultado do produto é: ', prod(3,5))\n",
    "print (\"Docstring da função: \", prod.__doc__)"
   ]
  },
  {
   "cell_type": "markdown",
   "metadata": {},
   "source": [
    "#### 2)  Implemente uma função que dado um número, retorna o seu quadrado."
   ]
  },
  {
   "cell_type": "code",
   "execution_count": 7,
   "metadata": {},
   "outputs": [
    {
     "name": "stdout",
     "output_type": "stream",
     "text": [
      "O resultado é:  16\n",
      "Docstring da função:  Essa função resulta no quadrado do valor de entrada.\n"
     ]
    }
   ],
   "source": [
    "# Escreva aqui a solução do exercício.\n",
    "def quad(x):\n",
    "    '''Essa função resulta no quadrado do valor de entrada.'''\n",
    "    quad = x**2\n",
    "    return quad\n",
    "\n",
    "func_result = quad(4)\n",
    "print ('O resultado é: ', func_result)\n",
    "print (\"Docstring da função: \", quad.__doc__)"
   ]
  },
  {
   "cell_type": "markdown",
   "metadata": {},
   "source": [
    "#### 3) Calcule o resultado e o resto da divisão de dois números inteiros (a função deve retornar os dois valores no mesmo comando return)"
   ]
  },
  {
   "cell_type": "code",
   "execution_count": 16,
   "metadata": {},
   "outputs": [
    {
     "name": "stdout",
     "output_type": "stream",
     "text": [
      "O quoeciente e o resto, respectivamente são:  (2, 1)\n"
     ]
    }
   ],
   "source": [
    "# Escreva aqui a solução do exercício.\n",
    "\n",
    "def foo(x, y):\n",
    "    '''Retorna o quoeciente e o resto da divisão'''\n",
    "    return x//y, x%y\n",
    "\n",
    "print(\"O quoeciente e o resto, respectivamente são: \", foo(15,7))"
   ]
  },
  {
   "cell_type": "markdown",
   "metadata": {},
   "source": [
    "#### 4) Dado o valor da conta de um restaurante, calcule a gorjeta do garçom, considerando 10% do valor da conta"
   ]
  },
  {
   "cell_type": "code",
   "execution_count": 4,
   "metadata": {},
   "outputs": [],
   "source": [
    "# Escreva aqui a solução do exercício."
   ]
  },
  {
   "cell_type": "markdown",
   "metadata": {},
   "source": [
    "#### 5) No código abaixo, insira a parte que está faltando para que a frase \"Hello World\" seja impressa na tela"
   ]
  },
  {
   "cell_type": "code",
   "execution_count": 17,
   "metadata": {},
   "outputs": [
    {
     "name": "stdout",
     "output_type": "stream",
     "text": [
      "Hello World\n"
     ]
    }
   ],
   "source": [
    "print (\"Hello World\")"
   ]
  },
  {
   "cell_type": "markdown",
   "metadata": {},
   "source": [
    "#### 6) Crie uma variável chamada ```nomeCarro``` e atribua o valor ```Ford``` a ela."
   ]
  },
  {
   "cell_type": "code",
   "execution_count": 21,
   "metadata": {},
   "outputs": [],
   "source": [
    "# Escreva aqui a solução do exercício.\n",
    "nomeCarro = 'Ford'"
   ]
  },
  {
   "cell_type": "markdown",
   "metadata": {},
   "source": [
    "#### 7) Neste exercício, você precisará escrever uma string de formatação que imprima os dados usando a seguinte sintaxe: \"Olá João Ubaldo. Seu saldo atual é de $53,44\"."
   ]
  },
  {
   "cell_type": "code",
   "execution_count": 30,
   "metadata": {},
   "outputs": [
    {
     "name": "stdout",
     "output_type": "stream",
     "text": [
      "Olá João Ubaldo seu saldo atual é de 53.440000\n"
     ]
    }
   ],
   "source": [
    "dados = (\"João\", \"Ubaldo\", 53.44)\n",
    "format_string = \"Olá %s %s seu saldo atual é de %f\"   # Escreve a string de formatação aqui.\n",
    "\n",
    "print(format_string % dados)\n"
   ]
  },
  {
   "cell_type": "markdown",
   "metadata": {},
   "source": [
    "#### 8) Qual é a sintaxe correta para importar um módulo chamado \"os\"?"
   ]
  },
  {
   "cell_type": "code",
   "execution_count": 7,
   "metadata": {},
   "outputs": [],
   "source": [
    " # Escreva aqui a solução do exercício.\n",
    "    \n",
    "    import os\n",
    "    \n",
    "    "
   ]
  },
  {
   "cell_type": "markdown",
   "metadata": {},
   "source": [
    "#### 9) Implemente uma função que imprima na tela o tipo de um objeto ou variável, em seguida, teste a função com a variável ```var='1234'```."
   ]
  },
  {
   "cell_type": "code",
   "execution_count": 33,
   "metadata": {},
   "outputs": [
    {
     "name": "stdout",
     "output_type": "stream",
     "text": [
      "<class 'str'>\n"
     ]
    }
   ],
   "source": [
    " # Escreva aqui a solução do exercício.\n",
    "var = '1234'\n",
    "print (type(var))"
   ]
  },
  {
   "cell_type": "markdown",
   "metadata": {},
   "source": [
    "#### 10) Execute o código abaixo. Descreva o que está ocorrendo."
   ]
  },
  {
   "cell_type": "code",
   "execution_count": 34,
   "metadata": {},
   "outputs": [
    {
     "name": "stdout",
     "output_type": "stream",
     "text": [
      "0\n",
      "1\n",
      "2\n",
      "3\n",
      "4\n",
      "5\n",
      "6\n",
      "7\n",
      "8\n",
      "9\n",
      "10\n"
     ]
    }
   ],
   "source": [
    "def foo(var):\n",
    "    print(var)\n",
    "    if(var < 10):\n",
    "        foo(var+1)\n",
    "    \n",
    "foo(0)"
   ]
  },
  {
   "cell_type": "markdown",
   "metadata": {},
   "source": [
    "**Descreva aqui o que o código acima está fazendo.**\n",
    "\n",
    "A função recebe o valor e printa na tela. Caso esse valor seja menor do que 10, ele incrementa um e printa novamente na tela, isso ocorre até que seja satisfeita a condição da varável ser igual a 10. "
   ]
  },
  {
   "cell_type": "markdown",
   "metadata": {},
   "source": [
    "#### 11)  Execute o código abaixo, veja que ocorre um erro em seguida, corrija-o até que não ocorram mais erros."
   ]
  },
  {
   "cell_type": "code",
   "execution_count": 38,
   "metadata": {},
   "outputs": [
    {
     "name": "stdout",
     "output_type": "stream",
     "text": [
      "A função foo retorna o valor:  13\n"
     ]
    }
   ],
   "source": [
    "def foo(a,b,c):\n",
    "    var = a + b * c\n",
    "    return var\n",
    "\n",
    "print('A função foo retorna o valor: ', foo(1,2,6))"
   ]
  },
  {
   "cell_type": "code",
   "execution_count": null,
   "metadata": {},
   "outputs": [],
   "source": []
  }
 ],
 "metadata": {
  "kernelspec": {
   "display_name": "Python 3",
   "language": "python",
   "name": "python3"
  },
  "language_info": {
   "codemirror_mode": {
    "name": "ipython",
    "version": 3
   },
   "file_extension": ".py",
   "mimetype": "text/x-python",
   "name": "python",
   "nbconvert_exporter": "python",
   "pygments_lexer": "ipython3",
   "version": "3.7.6"
  }
 },
 "nbformat": 4,
 "nbformat_minor": 4
}
