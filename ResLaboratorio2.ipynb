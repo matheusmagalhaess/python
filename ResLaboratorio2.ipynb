{
 "cells": [
  {
   "cell_type": "markdown",
   "metadata": {},
   "source": [
    "# Laboratório #2\n",
    "\n",
    "### ATENCÃO\n",
    "\n",
    "1. Para cada um dos exercícios a seguir, faça o seguinte:\n",
    "    * Adicione comentários ao seu código. Os comentários servem para explicar o código, ajudando você a lembrar do que se trata aquele trecho de código, como também outras pessoas a entenderem o que foi feito.\n",
    "    * Caso o exercício involva a implementação de uma função:\n",
    "        + Coloque um comentário dizendo o que a função faz, use **docstrings**.\n",
    "        + Escolha nomes explicativos para suas funções e parâmetros.\n",
    "    \n",
    "2. Quando você terminar os exercícios do laboratório, vá ao menu do Jupyter ou Colab e selecione a opção para fazer download do notebook.\n",
    "    * Os notebooks tem extensão .ipynb. \n",
    "    * Este deve ser o arquivo que você irá entregar.\n",
    "    * No Jupyter vá até a opção **File** -> **Download as** -> **Notebook (.ipynb)**.\n",
    "    * No Colab vá até a opção **File** -> **Download .ipynb**."
   ]
  },
  {
   "cell_type": "markdown",
   "metadata": {},
   "source": [
    "**Nome**: Matheus de Souza Magalhães\n",
    "\n",
    "**Matrícula**:9383"
   ]
  },
  {
   "cell_type": "markdown",
   "metadata": {},
   "source": [
    "## Exercícios"
   ]
  },
  {
   "cell_type": "markdown",
   "metadata": {},
   "source": [
    "#### 1)  Implemente uma função que, dado um número inteiro `x` passado como parâmetro, retorna a string `x é positivo` caso `x` seja um número positivo, `x é negativo` caso `x` seja um número negativo e `x é igual a zero` caso `x` seja igual a zero."
   ]
  },
  {
   "cell_type": "code",
   "execution_count": 1,
   "metadata": {},
   "outputs": [
    {
     "name": "stdout",
     "output_type": "stream",
     "text": [
      "Essa função retorna se um número inteiro é positivo ou negativo\n",
      "Digite um número X inteiro: 10\n",
      "X é positivo\n"
     ]
    }
   ],
   "source": [
    "def main():\n",
    "    '''Essa função retorna se um número inteiro é positivo ou negativo'''\n",
    "    x = int(input(\"Digite um número X inteiro: \"))\n",
    "    if x > 0: \n",
    "        print('X é positivo')\n",
    "    elif x == 0:\n",
    "        print('X é igual a zero')\n",
    "    else:\n",
    "        print('X é negativo')\n",
    "\n",
    "#---\n",
    "print(main.__doc__)\n",
    "main()\n",
    "    \n",
    "    "
   ]
  },
  {
   "cell_type": "markdown",
   "metadata": {},
   "source": [
    "#### 2) Implemente uma função que receba duas notas parciais, `nota1` e `nota2`, recebidas por um aluno ao longo do semestre. A atribuição de conceitos obedece à tabela abaixo: \n",
    "\n",
    "| Média de Aproveitamento | Conceito |\n",
    "|:-----------------------:|:--------:|\n",
    "|     Entre 9.0 e 10.0    |     A    |\n",
    "|     Entre 7.5 e 9.0     |     B    |\n",
    "|     Entre 6.0 e 7.5     |     C    |\n",
    "|     Entre 4.0 e 6.0     |     D    |\n",
    "|     Entre 4.0 e zero    |     E    |\n",
    "\n",
    "A função deve calcular a média alcançada pelo aluno e imprimir na tela:\n",
    "+ as 2 notas recebidas pelo aluno\n",
    "+ a média das 2 notas\n",
    "+ o conceito correspondente\n",
    "+ e a mensagem “APROVADO” se o conceito for A, B ou C ou “REPROVADO” se o conceito for D ou E.\n",
    "\n",
    "**OBS.**: Adicione chamadas de teste à sua função."
   ]
  },
  {
   "cell_type": "code",
   "execution_count": 14,
   "metadata": {},
   "outputs": [
    {
     "name": "stdout",
     "output_type": "stream",
     "text": [
      "Essa função mostra a situação do aluno.\n",
      "---------------------------------------------------\n",
      "Nota 1: 10\n",
      "Nota 2: 5\n",
      "A nota 1 é 10\n",
      "A nota 2 é 5\n",
      "A média do aluno é 7.5\n",
      "O conceito do aluno é B\n",
      "O aluno está APROVADO\n"
     ]
    }
   ],
   "source": [
    "def notas():\n",
    "    '''Essa função mostra a situação do aluno.'''\n",
    "    a = float(input(\"Nota 1: \"))\n",
    "    b = float(input(\"Nota 2: \"))\n",
    "    media = (a+b)/2\n",
    "    \n",
    "    if 9 <= media <= 10:\n",
    "        conceito = 'A'\n",
    "        situacao = 'APROVADO'\n",
    "    elif 7.5 <= media < 9:\n",
    "        conceito = 'B'\n",
    "        situacao = 'APROVADO'\n",
    "    elif 6 <= media < 7.5:\n",
    "        conceito = 'C'\n",
    "        situacao = 'APROVADO'\n",
    "    elif 4 <= media < 6:\n",
    "        conceito = 'D'\n",
    "        situacao = 'REPROVADO'\n",
    "    elif media < 4:\n",
    "        conceito = 'E'\n",
    "        situacao = 'REPROVADO'\n",
    "    else:\n",
    "        print('Verifique as notas digitadas, elas devem ser maiores que zero e menores que 10!')\n",
    "    \n",
    "    # SAÍDA DE DADOS\n",
    "   \n",
    "    print(\"A nota 1 é %.0f\" %a)\n",
    "    print(\"A nota 2 é %.0f\" %b)\n",
    "    print(\"A média do aluno é %.1f\" % media)\n",
    "    print(\"O conceito do aluno é %s\" % conceito)\n",
    "    print(\"O aluno está %s\" % situacao)\n",
    "    \n",
    "#---\n",
    "\n",
    "print(notas.__doc__)\n",
    "print('---------------------------------------------------')\n",
    "notas()        \n",
    "        \n",
    "\n"
   ]
  },
  {
   "cell_type": "markdown",
   "metadata": {},
   "source": [
    "#### 3)  Implemente uma função que receba uma letra como argumento e que verifique se essa letra é uma vogal ou consoante. Use os operadores de associação para verificar se a letra digitada está presente em uma lista de vogais. "
   ]
  },
  {
   "cell_type": "code",
   "execution_count": null,
   "metadata": {},
   "outputs": [],
   "source": [
    "vogais = ('a','e','i','o','u')\n",
    "\n",
    "def main():\n",
    "    '''Essa função mostra se uma letra é vogal ou consoante'''\n",
    "    letra = str(input(\"Entre com uma letra: \"))\n",
    "    if len(letra) == 1:\n",
    "        if (letra in vogais) == True:\n",
    "            print('Esta letra é uma vogal')\n",
    "        else:\n",
    "            print('Esta letra é uma consoante')\n",
    "    else:\n",
    "        print('Insira apenas uma letra')\n",
    "    \n",
    "#---\n",
    "print(main.__doc__)\n",
    "main()\n",
    "    \n",
    "    "
   ]
  },
  {
   "cell_type": "markdown",
   "metadata": {},
   "source": [
    "#### 4)  Um ano bissexto ocorre aproximadamente a cada 4 anos. Escreva uma função, que receba como argumento de entrada um ano (um número inteiro), e que retorne `True` caso o ano seja bissexto ou `False` caso contrário. Para ser bissexto, o valor do ano precisa ser múltiplo de 4, exceto múltiplos de 100 que não são múltiplos de 400. Assim, por exemplo, o ano de 2020 é bissexto pois satisfaz todas essas condições. Adicione chamadas de teste à sua função.\n",
    "\n",
    "**Dica**: Use o operador ```%``` para verificar se ano é um múltiplo de algum número, como por exemplo\n",
    "\n",
    "```ano % 4 == 0```\n",
    "\n",
    "Se ```ano=12```, a expressão ```12 % 4 == 0``` resulta em ```True``` pois como 12 é múltiplo de 4 o resto da divisão (```12%4```) é igual a zero."
   ]
  },
  {
   "cell_type": "code",
   "execution_count": null,
   "metadata": {},
   "outputs": [],
   "source": [
    "def anobi():\n",
    "    '''Essa função retorna se um ano é bissexto'''\n",
    "    ano = int(input(\"Digite o valor do ano: \"))\n",
    "    ano_b = not ((ano % 4) or (ano % 100 and (not ano % 400)))\n",
    "    print(ano_b)\n",
    "\n",
    "#---\n",
    "print(anobi.__doc__)\n",
    "anobi()"
   ]
  },
  {
   "cell_type": "markdown",
   "metadata": {},
   "source": [
    "#### 5)  Supondo que a população de um país A seja de 80000 habitantes com uma taxa anual de crescimento de 3% e que a população de um país B seja de 200000 habitantes com uma taxa de crescimento de 1.5%. Faça um programa que calcule e escreva o número de anos necessários para que a população do país A ultrapasse ou iguale a população do país B, mantidas as taxas de crescimento. Quantos anos são necessário para que a população do pais A ultrapasse a população do país B? Qual a população de ambos países após esse número de anos?"
   ]
  },
  {
   "cell_type": "code",
   "execution_count": null,
   "metadata": {},
   "outputs": [],
   "source": [
    "a = 80000\n",
    "b = 200000\n",
    "\n",
    "aRate = 0.03\n",
    "bRate = 0.015\n",
    "\n",
    "anos = 0\n",
    "\n",
    "while(a<b):\n",
    "    anos +=1\n",
    "    a = a + a*aRate \n",
    "    b = b + b*bRate\n",
    "\n",
    "print(\"Após %i anos o país A ultrapassou o país B em número de habitantes.\" % anos)\n",
    "print(\"País A: %.0f\" % a)\n",
    "print(\"País B: %.0f\" % b)\n",
    "\n",
    "\n",
    "\n",
    "\n",
    "\n"
   ]
  },
  {
   "cell_type": "markdown",
   "metadata": {},
   "source": [
    "#### 6)  Implemente uma função que receba 2 números, `base` e `expoente`, calcule e imprima na tela o primeiro número elevado ao segundo número, ou seja, $base^{expoente}$. Não utilize a função de potênciação da linguagem, utilize laços de repetição."
   ]
  },
  {
   "cell_type": "code",
   "execution_count": 10,
   "metadata": {},
   "outputs": [
    {
     "name": "stdout",
     "output_type": "stream",
     "text": [
      "Essa função calcula a potencia de um número\n",
      "Entre com a base: 5\n",
      "Entre com o expoente: 5\n",
      "O resultado de 5 elevado a 5 é: 3125\n"
     ]
    }
   ],
   "source": [
    "def ex():\n",
    "    '''Essa função calcula a potencia de um número'''\n",
    "    base = int(input(\"Entre com a base: \"))\n",
    "    expoente = int(input(\"Entre com o expoente: \"))\n",
    "    num =1\n",
    "    \n",
    "    for x in range (1,expoente+1):\n",
    "        num = num*base\n",
    "\n",
    "    print(\"O resultado de %d elevado a %d é: %d\" %(base, expoente,num))\n",
    "#---\n",
    "print(ex.__doc__)\n",
    "ex()"
   ]
  },
  {
   "cell_type": "markdown",
   "metadata": {},
   "source": [
    "#### 7)  Implemente uma função que calcule o fatorial de um número inteiro fornecido pelo usuário. Ex.: $5! = 5*4*3*2*1 = 120$. utilize apenas laços de repetição.  A saída deve ser conforme o exemplo abaixo:\n",
    "\n",
    "`Fatorial de: 5\n",
    "5! =  5 . 4 . 3 . 2 . 1 = 120`"
   ]
  },
  {
   "cell_type": "code",
   "execution_count": null,
   "metadata": {},
   "outputs": [],
   "source": [
    "def fatorial():\n",
    "    '''Essa função calcula o fatorial de um número'''\n",
    "    n = int(input(\"Digite o valor de n: \"))\n",
    "    fat = 1\n",
    "    i = 2\n",
    "    while i <= n:\n",
    "        fat = fat*i\n",
    "        i = i + 1\n",
    "\n",
    "    print(\"O valor de %d! é =\" %n, fat)\n",
    "\n",
    "#-----\n",
    "print(fatorial.__doc__)\n",
    "fatorial()"
   ]
  },
  {
   "cell_type": "markdown",
   "metadata": {},
   "source": [
    "#### 8) A série de Fibonacci é gerada através da seguinte equação $F_n = F_{n-1} + F_{n-2}$, onde os 2 primeiros termos são $F_{0} = 0$ e $F_{1} = 1$, respectivamente. Todos os outros termos são obtidos adicionando os dois termos anteriores. Os primeiros valores da série são: 0,1, 1, 2, 3, 5, 8, 13, 21, 34, 55, 89, 144, 233, 377, 610, 987, 1597, 2584, e assim por diante. Desta forma, escreva um programa que gere e imprima na tela a série de Fibonacci até que o valor gerado seja maior que 100000."
   ]
  },
  {
   "cell_type": "code",
   "execution_count": 18,
   "metadata": {},
   "outputs": [
    {
     "name": "stdout",
     "output_type": "stream",
     "text": [
      "Gera uma sequência de Fibonacci até que o valor gerado seja maior que 100000\n",
      "0\n",
      "1\n",
      "1\n",
      "2\n",
      "3\n",
      "5\n",
      "8\n",
      "13\n",
      "21\n",
      "34\n",
      "55\n",
      "89\n",
      "144\n",
      "233\n",
      "377\n",
      "610\n",
      "987\n",
      "1597\n",
      "2584\n",
      "4181\n",
      "6765\n",
      "10946\n",
      "17711\n",
      "28657\n",
      "46368\n",
      "75025\n",
      "121393\n"
     ]
    }
   ],
   "source": [
    "def fibonacci():   \n",
    "    '''Gera uma sequência de Fibonacci até que o valor gerado seja maior que 100000'''\n",
    "    f0 = 0\n",
    "    f1 = 1\n",
    "    f = 0\n",
    "    print(f0)\n",
    "    print(f1)\n",
    "    while f < 100000:\n",
    "        f = f0 + f1\n",
    "        f0 = f1\n",
    "        f1 = f\n",
    "        print(f)\n",
    "#---\n",
    "print(fibonacci.__doc__)\n",
    "fibonacci()\n"
   ]
  },
  {
   "cell_type": "markdown",
   "metadata": {},
   "source": [
    "#### 9) Implemente uma função que gere números 2 aleatórios com valores entre 1 e 10 e calcule a soma destes 2 números até que o número resultante da soma seja igual a 5.\n",
    "\n",
    "**Dica**: Use a função `randint(inicio,fim)` do módulo `random` (ou seja, importe o módulo `random`) para gerar um número aleatório, onde os valores de (início, fim) representam o intervalo desejado para os números a serem gerados.\n",
    "\n",
    "Exemplo: randint(1,10) → gera um número aleatório entre 1 e 10, inclusive."
   ]
  },
  {
   "cell_type": "code",
   "execution_count": 35,
   "metadata": {},
   "outputs": [
    {
     "name": "stdout",
     "output_type": "stream",
     "text": [
      "Gera números 2 aleatórios com valores entre 1 e 10 e calcule a soma destes 2 números até que o número resultante da soma seja igual a 5\n",
      "Os números são 4 e 1\n"
     ]
    }
   ],
   "source": [
    "import random as r\n",
    "def main():\n",
    "    '''Gera números 2 aleatórios com valores entre 1 e 10 e calcula a soma destes 2 números até que o número resultante da soma seja igual a 5'''\n",
    "    soma = 0\n",
    "    while soma !=5:\n",
    "        a = r.randint(1,10)\n",
    "        b = r.randint(1,10)\n",
    "        soma = a + b\n",
    "    print(\"Os números são %.0d e %.0d\" % (a,b))\n",
    "\n",
    "#---\n",
    "print(main.__doc__)\n",
    "main()\n",
    "    \n",
    "    "
   ]
  },
  {
   "cell_type": "code",
   "execution_count": null,
   "metadata": {},
   "outputs": [],
   "source": []
  }
 ],
 "metadata": {
  "kernelspec": {
   "display_name": "Python 3",
   "language": "python",
   "name": "python3"
  },
  "language_info": {
   "codemirror_mode": {
    "name": "ipython",
    "version": 3
   },
   "file_extension": ".py",
   "mimetype": "text/x-python",
   "name": "python",
   "nbconvert_exporter": "python",
   "pygments_lexer": "ipython3",
   "version": "3.7.6"
  }
 },
 "nbformat": 4,
 "nbformat_minor": 4
}
